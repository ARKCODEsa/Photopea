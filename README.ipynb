{
 "cells": [
  {
   "metadata": {},
   "cell_type": "markdown",
   "source": [
    "# Photopea Desktop Viewer\n",
    "\n",
    "## Descripción del proyecto\n",
    "Photopea Desktop Viewer es una aplicación de escritorio que proporciona una experiencia de usuario elegante al incrustar el editor de Photopea en una ventana independiente. Incluye una pantalla inicial (splash screen) con barra de carga, efectos visuales, y un diseño moderno que asegura una transición fluida hasta la ventana principal.\n",
    "\n",
    "## Tecnologías utilizadas\n",
    "- **Python 3.12**\n",
    "- **PyQt5**: Para el diseño y funcionalidad de la interfaz de usuario.\n",
    "- **QtWebEngine**: Para incrustar la web de Photopea (https://www.photopea.com/) en la aplicación.\n",
    "\n",
    "## Características destacadas\n",
    "- Splash screen con barra de carga animada.\n",
    "- Efectos visuales elegantes (fade-in, fade-out) entre el splash y la ventana principal.\n",
    "- Barra de título personalizada: \"Photopea -- Version -- Desktop\".\n",
    "- Footer con el mensaje \"@2024 arkcode\".\n",
    "\n",
    "## Instrucciones de instalación\n",
    "1. Clona este repositorio o descárgalo como archivo ZIP.\n",
    "   ```bash\n",
    "   git clone <URL_DEL_REPOSITORIO>\n",
    "   cd <NOMBRE_DEL_REPOSITORIO>\n",
    "   ```\n",
    "\n",
    "2. Asegúrate de tener Python 3.12 y las dependencias instaladas.\n",
    "   ```bash\n",
    "   pip install PyQt5 PyQtWebEngine\n",
    "   ```\n",
    "\n",
    "3. Ejecuta la aplicación.\n",
    "   ```bash\n",
    "   python photopea.py\n",
    "   ```\n",
    "\n",
    "## Uso\n",
    "Al iniciar, aparecerá una pantalla de presentación (splash screen) con una barra de carga elegante. Una vez cargada, se abrirá la ventana principal con Photopea incrustado. En la parte inferior de la ventana principal, se muestra el footer \"@2024 arkcode\".\n",
    "\n",
    "## Autor\n",
    "Creado por **arkcode**, 2024."
   ],
   "id": "18c70441ebec2920"
  },
  {
   "metadata": {},
   "cell_type": "code",
   "outputs": [],
   "execution_count": null,
   "source": "",
   "id": "18a58a02c3c4172d"
  }
 ],
 "metadata": {
  "kernelspec": {
   "display_name": "Python 3",
   "language": "python",
   "name": "python3"
  },
  "language_info": {
   "codemirror_mode": {
    "name": "ipython",
    "version": 2
   },
   "file_extension": ".py",
   "mimetype": "text/x-python",
   "name": "python",
   "nbconvert_exporter": "python",
   "pygments_lexer": "ipython2",
   "version": "2.7.6"
  }
 },
 "nbformat": 4,
 "nbformat_minor": 5
}
